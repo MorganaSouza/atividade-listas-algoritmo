{
 "cells": [
  {
   "cell_type": "code",
   "execution_count": 74,
   "metadata": {},
   "outputs": [
    {
     "data": {
      "text/plain": [
       "3"
      ]
     },
     "execution_count": 74,
     "metadata": {},
     "output_type": "execute_result"
    }
   ],
   "source": [
    "#lista com 3 elementos: chamando o elemento da posição 0.\n",
    "\n",
    "dias = [3,1,10]\n",
    "dias[0]"
   ]
  },
  {
   "cell_type": "code",
   "execution_count": 75,
   "metadata": {},
   "outputs": [
    {
     "data": {
      "text/plain": [
       "1"
      ]
     },
     "execution_count": 75,
     "metadata": {},
     "output_type": "execute_result"
    }
   ],
   "source": [
    "#lista com 3 elementos:\n",
    "\n",
    "dias = [3,1,10]\n",
    "dias[1]"
   ]
  },
  {
   "cell_type": "code",
   "execution_count": 76,
   "metadata": {},
   "outputs": [
    {
     "data": {
      "text/plain": [
       "10"
      ]
     },
     "execution_count": 76,
     "metadata": {},
     "output_type": "execute_result"
    }
   ],
   "source": [
    "#lista com 3 elementos:\n",
    "\n",
    "dias = [3,1,10]\n",
    "dias[2]"
   ]
  },
  {
   "cell_type": "code",
   "execution_count": 77,
   "metadata": {},
   "outputs": [
    {
     "data": {
      "text/plain": [
       "[7, 8, 9]"
      ]
     },
     "execution_count": 77,
     "metadata": {},
     "output_type": "execute_result"
    }
   ],
   "source": [
    "#Modificando listas: Chama o elemento 0, e muda o valor para 7.\n",
    "\n",
    "Z = [3,8,9]\n",
    "Z[0] = 7\n",
    "Z\n"
   ]
  },
  {
   "cell_type": "code",
   "execution_count": 78,
   "metadata": {},
   "outputs": [
    {
     "name": "stdout",
     "output_type": "stream",
     "text": [
      "True\n",
      "True\n",
      "[5, 7, 5, 8, 9]\n",
      "[5, 7, 5, 8, 9]\n"
     ]
    }
   ],
   "source": [
    "#atividade\n",
    "\n",
    "V = [6,7,5,8,9]\n",
    "L = V #Mesmo lugar da memória. \n",
    "print(V == L) #Comparando o valor de V com L\n",
    "print(V is L) #Mesmo lugar da memória, mesma coisa.\n",
    "V[0]=5 #Modificando o valor\n",
    "print(V)\n",
    "print(L)"
   ]
  },
  {
   "cell_type": "code",
   "execution_count": 79,
   "metadata": {},
   "outputs": [
    {
     "name": "stdout",
     "output_type": "stream",
     "text": [
      "True\n",
      "False\n",
      "[81, 82, 83]\n",
      "[5, 82, 83]\n"
     ]
    }
   ],
   "source": [
    "#Clonando Listas\n",
    "\n",
    "a = [81,82,83]\n",
    "b = a[:] #Criando clone com fatia,   : clonar.\n",
    "print( a == b)\n",
    "print(a is b) #falso porque clonei e não estão no mesmo lugar da memória. \n",
    "b[0] = 5\n",
    "print(a)\n",
    "print(b)\n",
    "\n"
   ]
  },
  {
   "cell_type": "code",
   "execution_count": 80,
   "metadata": {},
   "outputs": [
    {
     "name": "stdout",
     "output_type": "stream",
     "text": [
      "['b', 'c']\n",
      "['a', 'b', 'c', 'd']\n",
      "['d', 'e', 'f']\n",
      "['a', 'b', 'c', 'd', 'e', 'f']\n"
     ]
    }
   ],
   "source": [
    "#Fatiamento de Listas :(até) no meio\n",
    "\n",
    "uma_lista = ['a','b','c','d','e','f'] #0,1,2,3,4,5\n",
    "print(uma_lista[1:3]) #intervalo fechado, para antes.\n",
    "print(uma_lista[:4]) #vai de tudo da esquerda até o índice 4.\n",
    "print(uma_lista[3:]) #pegue uma lista, comece no índice 3 e vá até (tudo).\n",
    "print(uma_lista[:]) #tudo.\n"
   ]
  },
  {
   "cell_type": "code",
   "execution_count": 102,
   "metadata": {},
   "outputs": [
    {
     "ename": "IndexError",
     "evalue": "list index out of range",
     "output_type": "error",
     "traceback": [
      "\u001b[1;31m---------------------------------------------------------------------------\u001b[0m",
      "\u001b[1;31mIndexError\u001b[0m                                Traceback (most recent call last)",
      "Cell \u001b[1;32mIn[102], line 6\u001b[0m\n\u001b[0;32m      4\u001b[0m b\u001b[38;5;241m=\u001b[39ma[:]\n\u001b[0;32m      5\u001b[0m b[\u001b[38;5;241m0\u001b[39m]\u001b[38;5;241m=\u001b[39m\u001b[38;5;241m5\u001b[39m\n\u001b[1;32m----> 6\u001b[0m \u001b[38;5;28mprint\u001b[39m(\u001b[43ma\u001b[49m\u001b[43m[\u001b[49m\u001b[38;5;241;43m3\u001b[39;49m\u001b[43m]\u001b[49m) \u001b[38;5;66;03m#Deu erro porque não tem o índice 3.\u001b[39;00m\n",
      "\u001b[1;31mIndexError\u001b[0m: list index out of range"
     ]
    }
   ],
   "source": [
    "#Praticar listas\n",
    "\n",
    "a = [1,2,3] #0,1,2\n",
    "b=a[:]\n",
    "b[0]=5\n",
    "print(a[3]) #Deu erro porque não tem o índice 3."
   ]
  },
  {
   "cell_type": "code",
   "execution_count": null,
   "metadata": {},
   "outputs": [
    {
     "data": {
      "text/plain": [
       "[76, 92, 3, 'oi', True, 'pitomba', 76]"
      ]
     },
     "execution_count": 22,
     "metadata": {},
     "output_type": "execute_result"
    }
   ],
   "source": [
    "#DESAFIO 2)\n",
    "\n",
    "minhaLista = [76,92.3,'oi', True, 4, 76]\n",
    "\n",
    "#a)minhaLista = [76,92,3,'oi', True, 4, 76]\n",
    "minhaLista[5] = 'pitomba'\n",
    "minhaLista[6] = 76\n",
    "minhaLista\n"
   ]
  },
  {
   "cell_type": "code",
   "execution_count": 130,
   "metadata": {},
   "outputs": [],
   "source": [
    "#a\n",
    "minhalista = [76,92.3,'oi', True, 4, 76]"
   ]
  },
  {
   "cell_type": "code",
   "execution_count": 91,
   "metadata": {},
   "outputs": [],
   "source": [
    "#a\n",
    "lista2= (['pitomba', 76])"
   ]
  },
  {
   "cell_type": "code",
   "execution_count": 90,
   "metadata": {},
   "outputs": [],
   "source": [
    "#a\n",
    "novaLista= minhaLista + lista2"
   ]
  },
  {
   "cell_type": "code",
   "execution_count": 131,
   "metadata": {},
   "outputs": [
    {
     "data": {
      "text/plain": [
       "[76, 92.3, 'oi', 'cibele', 4, 76]"
      ]
     },
     "execution_count": 131,
     "metadata": {},
     "output_type": "execute_result"
    }
   ],
   "source": [
    "#b) \n",
    "minhaLista = [76,92.3,'oi', True, 4, 76]\n",
    "minhaLista[3] = 'cibele'\n",
    "minhaLista"
   ]
  },
  {
   "cell_type": "code",
   "execution_count": 83,
   "metadata": {},
   "outputs": [
    {
     "data": {
      "text/plain": [
       "[76, 92, 3, 'oi', True, 4, 76]"
      ]
     },
     "execution_count": 83,
     "metadata": {},
     "output_type": "execute_result"
    }
   ],
   "source": [
    "#b) \n",
    "\n",
    "print=(novaLista[:3] + ['cibele'] + novaLista[3:])\n",
    "minhaLista"
   ]
  },
  {
   "cell_type": "code",
   "execution_count": 132,
   "metadata": {},
   "outputs": [
    {
     "data": {
      "text/plain": [
       "[99, 92.3, 'oi', True, 4, 76]"
      ]
     },
     "execution_count": 132,
     "metadata": {},
     "output_type": "execute_result"
    }
   ],
   "source": [
    "#c)\n",
    "minhaLista = [76,92.3,'oi', True, 4, 76]\n",
    "minhaLista[0] = 99\n",
    "minhaLista"
   ]
  },
  {
   "cell_type": "code",
   "execution_count": 152,
   "metadata": {},
   "outputs": [
    {
     "ename": "TypeError",
     "evalue": "'list' object is not callable",
     "output_type": "error",
     "traceback": [
      "\u001b[1;31m---------------------------------------------------------------------------\u001b[0m",
      "\u001b[1;31mTypeError\u001b[0m                                 Traceback (most recent call last)",
      "Cell \u001b[1;32mIn[152], line 8\u001b[0m\n\u001b[0;32m      6\u001b[0m     \u001b[38;5;28mprint\u001b[39m(\u001b[38;5;124m'\u001b[39m\u001b[38;5;124mOi foi encontrado no índice 1\u001b[39m\u001b[38;5;124m'\u001b[39m)\n\u001b[0;32m      7\u001b[0m \u001b[38;5;28;01melif\u001b[39;00m minhalista[\u001b[38;5;241m2\u001b[39m] \u001b[38;5;241m==\u001b[39m \u001b[38;5;124m'\u001b[39m\u001b[38;5;124moi\u001b[39m\u001b[38;5;124m'\u001b[39m:\n\u001b[1;32m----> 8\u001b[0m     \u001b[38;5;28;43mprint\u001b[39;49m\u001b[43m(\u001b[49m\u001b[38;5;124;43m'\u001b[39;49m\u001b[38;5;124;43mOi foi encontrado no índice 2\u001b[39;49m\u001b[38;5;124;43m'\u001b[39;49m\u001b[43m)\u001b[49m\n\u001b[0;32m      9\u001b[0m \u001b[38;5;28;01melif\u001b[39;00m minhalista[\u001b[38;5;241m3\u001b[39m] \u001b[38;5;241m==\u001b[39m \u001b[38;5;124m'\u001b[39m\u001b[38;5;124moi\u001b[39m\u001b[38;5;124m'\u001b[39m:\n\u001b[0;32m     10\u001b[0m     \u001b[38;5;28mprint\u001b[39m(\u001b[38;5;124m'\u001b[39m\u001b[38;5;124mOi foi encontrado no índice 3\u001b[39m\u001b[38;5;124m'\u001b[39m)\n",
      "\u001b[1;31mTypeError\u001b[0m: 'list' object is not callable"
     ]
    }
   ],
   "source": [
    "#d\n",
    "minhalista= [76,92.3,'oi',True,4,76]\n",
    "if minhalista[0] == 'oi':\n",
    "    print('Oi foi encontrado no índice 0')\n",
    "elif minhalista[1] == 'oi':\n",
    "    print('Oi foi encontrado no índice 1')\n",
    "elif minhalista[2] == 'oi':\n",
    "    print('Oi foi encontrado no índice 2')\n",
    "elif minhalista[3] == 'oi':\n",
    "    print('Oi foi encontrado no índice 3')\n",
    "elif minhalista[4] == 'oi':\n",
    "    print('Oi foi encontrado no índice 4')\n",
    "elif minhalista[5] == 'oi':\n",
    "    print('Oi foi encontrado no índice 5')\n",
    "else:\n",
    "    print('Oi não foi encontrado em nenhum índice :)')\n"
   ]
  },
  {
   "cell_type": "code",
   "execution_count": 157,
   "metadata": {},
   "outputs": [],
   "source": [
    "#d\n",
    "minhalista= [76,92.3,'oi',True,4,76]\n",
    "if minhalista[0] == 'oi':\n",
    "    ('Oi foi encontrado no índice 0')\n",
    "elif minhalista[1] == 'oi':\n",
    "    ('Oi foi encontrado no índice 1')\n",
    "elif minhalista[2] == 'oi':\n",
    "    ('Oi foi encontrado no índice 2')\n",
    "elif minhalista[3] == 'oi':\n",
    "    ('Oi foi encontrado no índice 3')\n",
    "elif minhalista[4] == 'oi':\n",
    "    ('Oi foi encontrado no índice 4')\n",
    "elif minhalista[5] == 'oi':\n",
    "    ('Oi foi encontrado no índice 5')\n",
    "else:\n",
    "    ('Oi não foi encontrado em nenhum índice :)')"
   ]
  },
  {
   "cell_type": "code",
   "execution_count": 114,
   "metadata": {},
   "outputs": [
    {
     "data": {
      "text/plain": [
       "[76, 92.3, 'oi', 4, 76]"
      ]
     },
     "execution_count": 114,
     "metadata": {},
     "output_type": "execute_result"
    }
   ],
   "source": [
    "#e) \n",
    "minhaLista = [76,92.3,\"oi\",True,4,76]\n",
    "novLista = [4,76]\n",
    "minhaLista[3:] = novLista\n",
    "minhaLista\n"
   ]
  },
  {
   "cell_type": "code",
   "execution_count": 121,
   "metadata": {},
   "outputs": [],
   "source": [
    "lista = [4,2,8,6,5]"
   ]
  },
  {
   "cell_type": "code",
   "execution_count": 124,
   "metadata": {},
   "outputs": [
    {
     "data": {
      "text/plain": [
       "[4, 2, 8, 6, 5, 'cibele']"
      ]
     },
     "execution_count": 124,
     "metadata": {},
     "output_type": "execute_result"
    }
   ],
   "source": [
    "#3)\n",
    "lista = [4,2,8,6,5]\n",
    "lista = lista + ['cibele']\n",
    "lista"
   ]
  },
  {
   "cell_type": "code",
   "execution_count": 127,
   "metadata": {},
   "outputs": [
    {
     "data": {
      "text/plain": [
       "(10, 20, 30)"
      ]
     },
     "execution_count": 127,
     "metadata": {},
     "output_type": "execute_result"
    }
   ],
   "source": [
    "#Tupla\n",
    "\n",
    "tupla_nova = (10,20,30)\n",
    "tupla_nova"
   ]
  },
  {
   "cell_type": "code",
   "execution_count": 128,
   "metadata": {},
   "outputs": [
    {
     "data": {
      "text/plain": [
       "(10, 20, 30)"
      ]
     },
     "execution_count": 128,
     "metadata": {},
     "output_type": "execute_result"
    }
   ],
   "source": [
    "tupla_nova = 10,20,30\n",
    "tupla_nova"
   ]
  },
  {
   "cell_type": "code",
   "execution_count": 136,
   "metadata": {},
   "outputs": [
    {
     "data": {
      "text/plain": [
       "(10,)"
      ]
     },
     "execution_count": 136,
     "metadata": {},
     "output_type": "execute_result"
    }
   ],
   "source": [
    "#tupla com um elemento só\n",
    "tupla_elemento = 10,\n",
    "tupla_elemento"
   ]
  },
  {
   "cell_type": "code",
   "execution_count": 137,
   "metadata": {},
   "outputs": [
    {
     "data": {
      "text/plain": [
       "()"
      ]
     },
     "execution_count": 137,
     "metadata": {},
     "output_type": "execute_result"
    }
   ],
   "source": [
    "tupla_vazia = ()\n",
    "tupla_vazia"
   ]
  },
  {
   "cell_type": "code",
   "execution_count": 139,
   "metadata": {},
   "outputs": [
    {
     "data": {
      "text/plain": [
       "('t', 'e', 's', 't', 'e')"
      ]
     },
     "execution_count": 139,
     "metadata": {},
     "output_type": "execute_result"
    }
   ],
   "source": [
    "#3 função tupla - tuple\n",
    "\n",
    "nova_tupla = tuple('teste')\n",
    "nova_tupla"
   ]
  },
  {
   "cell_type": "code",
   "execution_count": 147,
   "metadata": {},
   "outputs": [
    {
     "data": {
      "text/plain": [
       "1"
      ]
     },
     "execution_count": 147,
     "metadata": {},
     "output_type": "execute_result"
    }
   ],
   "source": [
    "#métodos\n",
    "\n",
    "tupla_nomes = ('marlene','zezinho','marlene','cibele', 'zuely')\n",
    "(tupla_nomes.count('suely'))\n",
    "(tupla_nomes.count('zezinho'))"
   ]
  },
  {
   "cell_type": "code",
   "execution_count": 144,
   "metadata": {},
   "outputs": [
    {
     "data": {
      "text/plain": [
       "3"
      ]
     },
     "execution_count": 144,
     "metadata": {},
     "output_type": "execute_result"
    }
   ],
   "source": [
    "minha_tupla = (1,2,2,3,4,4,4,5)\n",
    "(minha_tupla.count(4))"
   ]
  }
 ],
 "metadata": {
  "kernelspec": {
   "display_name": "Python 3",
   "language": "python",
   "name": "python3"
  },
  "language_info": {
   "codemirror_mode": {
    "name": "ipython",
    "version": 3
   },
   "file_extension": ".py",
   "mimetype": "text/x-python",
   "name": "python",
   "nbconvert_exporter": "python",
   "pygments_lexer": "ipython3",
   "version": "3.11.4"
  }
 },
 "nbformat": 4,
 "nbformat_minor": 2
}
